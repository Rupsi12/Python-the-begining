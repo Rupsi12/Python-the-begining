{
  "nbformat": 4,
  "nbformat_minor": 0,
  "metadata": {
    "colab": {
      "name": "file1.ipynb",
      "provenance": [],
      "collapsed_sections": [],
      "authorship_tag": "ABX9TyMPmE1LXxZ9S+UyQObYEjT/",
      "include_colab_link": true
    },
    "kernelspec": {
      "name": "python3",
      "display_name": "Python 3"
    },
    "language_info": {
      "name": "python"
    }
  },
  "cells": [
    {
      "cell_type": "markdown",
      "metadata": {
        "id": "view-in-github",
        "colab_type": "text"
      },
      "source": [
        "<a href=\"https://colab.research.google.com/github/Rupsi12/Python-the-begining/blob/main/file1.ipynb\" target=\"_parent\"><img src=\"https://colab.research.google.com/assets/colab-badge.svg\" alt=\"Open In Colab\"/></a>"
      ]
    },
    {
      "cell_type": "code",
      "metadata": {
        "colab": {
          "base_uri": "https://localhost:8080/"
        },
        "id": "Yje0n53yMZ-U",
        "outputId": "59e72703-138c-4313-a136-1eb410561fcd"
      },
      "source": [
        "2+3\n"
      ],
      "execution_count": null,
      "outputs": [
        {
          "output_type": "execute_result",
          "data": {
            "text/plain": [
              "5"
            ]
          },
          "metadata": {
            "tags": []
          },
          "execution_count": 1
        }
      ]
    },
    {
      "cell_type": "code",
      "metadata": {
        "colab": {
          "base_uri": "https://localhost:8080/",
          "height": 129
        },
        "id": "MFgi4U2TMkUO",
        "outputId": "4f13a491-0852-4d5e-e39c-8818c55b94d6"
      },
      "source": [
        "2^"
      ],
      "execution_count": null,
      "outputs": [
        {
          "output_type": "error",
          "ename": "SyntaxError",
          "evalue": "ignored",
          "traceback": [
            "\u001b[0;36m  File \u001b[0;32m\"<ipython-input-2-0deb74d06d3d>\"\u001b[0;36m, line \u001b[0;32m1\u001b[0m\n\u001b[0;31m    2^\u001b[0m\n\u001b[0m      ^\u001b[0m\n\u001b[0;31mSyntaxError\u001b[0m\u001b[0;31m:\u001b[0m invalid syntax\n"
          ]
        }
      ]
    },
    {
      "cell_type": "code",
      "metadata": {
        "id": "G1ZMZ-MQM2Wc"
      },
      "source": [
        "def Height (w):\n",
        "  return (w *0.18+10)"
      ],
      "execution_count": null,
      "outputs": []
    },
    {
      "cell_type": "code",
      "metadata": {
        "colab": {
          "base_uri": "https://localhost:8080/"
        },
        "id": "Utrl4yC0Q-BE",
        "outputId": "cd60a492-3d89-4784-f850-6990b2eea495"
      },
      "source": [
        "Height (10)"
      ],
      "execution_count": null,
      "outputs": [
        {
          "output_type": "execute_result",
          "data": {
            "text/plain": [
              "11.8"
            ]
          },
          "metadata": {
            "tags": []
          },
          "execution_count": 8
        }
      ]
    },
    {
      "cell_type": "code",
      "metadata": {
        "id": "vtSlW5mLRB8w"
      },
      "source": [
        "def C (F):\n",
        "  return ((F-32)*(5/9))"
      ],
      "execution_count": null,
      "outputs": []
    },
    {
      "cell_type": "code",
      "metadata": {
        "colab": {
          "base_uri": "https://localhost:8080/"
        },
        "id": "rqw4uvg3U5q9",
        "outputId": "db636350-3336-4663-b53b-854379f215d4"
      },
      "source": [
        "C (212)\n"
      ],
      "execution_count": null,
      "outputs": [
        {
          "output_type": "execute_result",
          "data": {
            "text/plain": [
              "100.0"
            ]
          },
          "metadata": {
            "tags": []
          },
          "execution_count": 10
        }
      ]
    },
    {
      "cell_type": "code",
      "metadata": {
        "id": "YNSynibYVJZx"
      },
      "source": [
        "def Rupsa (F):\n",
        "  return (\"Rupsa \" *int(C(F)))"
      ],
      "execution_count": null,
      "outputs": []
    },
    {
      "cell_type": "code",
      "metadata": {
        "colab": {
          "base_uri": "https://localhost:8080/",
          "height": 86
        },
        "id": "VA34CQ-pWbyn",
        "outputId": "ce320b1f-7273-4bed-fd39-12b714a10755"
      },
      "source": [
        "Rupsa (212)"
      ],
      "execution_count": null,
      "outputs": [
        {
          "output_type": "execute_result",
          "data": {
            "application/vnd.google.colaboratory.intrinsic+json": {
              "type": "string"
            },
            "text/plain": [
              "'Rupsa Rupsa Rupsa Rupsa Rupsa Rupsa Rupsa Rupsa Rupsa Rupsa Rupsa Rupsa Rupsa Rupsa Rupsa Rupsa Rupsa Rupsa Rupsa Rupsa Rupsa Rupsa Rupsa Rupsa Rupsa Rupsa Rupsa Rupsa Rupsa Rupsa Rupsa Rupsa Rupsa Rupsa Rupsa Rupsa Rupsa Rupsa Rupsa Rupsa Rupsa Rupsa Rupsa Rupsa Rupsa Rupsa Rupsa Rupsa Rupsa Rupsa Rupsa Rupsa Rupsa Rupsa Rupsa Rupsa Rupsa Rupsa Rupsa Rupsa Rupsa Rupsa Rupsa Rupsa Rupsa Rupsa Rupsa Rupsa Rupsa Rupsa Rupsa Rupsa Rupsa Rupsa Rupsa Rupsa Rupsa Rupsa Rupsa Rupsa Rupsa Rupsa Rupsa Rupsa Rupsa Rupsa Rupsa Rupsa Rupsa Rupsa Rupsa Rupsa Rupsa Rupsa Rupsa Rupsa Rupsa Rupsa Rupsa Rupsa '"
            ]
          },
          "metadata": {
            "tags": []
          },
          "execution_count": 16
        }
      ]
    },
    {
      "cell_type": "code",
      "metadata": {
        "id": "hDOuNeWBaXWB"
      },
      "source": [
        "def Subhajit (Age):\n",
        "  return (\"subhajit\" *Age)"
      ],
      "execution_count": null,
      "outputs": []
    },
    {
      "cell_type": "code",
      "metadata": {
        "id": "XqadED-Bbsr9"
      },
      "source": [
        "def Rupsa (Age):\n",
        "  return (\"Rupsa\" *Age)\n"
      ],
      "execution_count": null,
      "outputs": []
    },
    {
      "cell_type": "code",
      "metadata": {
        "id": "H1pN2LFCb8PE"
      },
      "source": [
        "def Foo (Age):\n",
        "  if (Age>20):\n",
        "    return (Subhajit(Age))\n",
        "  else:\n",
        "    return (Rupsa(Age))"
      ],
      "execution_count": null,
      "outputs": []
    },
    {
      "cell_type": "code",
      "metadata": {
        "colab": {
          "base_uri": "https://localhost:8080/",
          "height": 35
        },
        "id": "yUy31xGtdLmI",
        "outputId": "1055cdfa-28eb-49dc-be03-606cc768319d"
      },
      "source": [
        "Foo (17)\n",
        "#Foo (21 )"
      ],
      "execution_count": null,
      "outputs": [
        {
          "output_type": "execute_result",
          "data": {
            "application/vnd.google.colaboratory.intrinsic+json": {
              "type": "string"
            },
            "text/plain": [
              "'RupsaRupsaRupsaRupsaRupsaRupsaRupsaRupsaRupsaRupsaRupsaRupsaRupsaRupsaRupsaRupsaRupsa'"
            ]
          },
          "metadata": {
            "tags": []
          },
          "execution_count": 23
        }
      ]
    },
    {
      "cell_type": "code",
      "metadata": {
        "id": "3X4x_qyKe2lb"
      },
      "source": [
        "d"
      ],
      "execution_count": null,
      "outputs": []
    },
    {
      "cell_type": "code",
      "metadata": {
        "id": "6DqvKEhbfRx-"
      },
      "source": [
        "def F (Sprice):\n",
        "  if (Sprice <= 500):\n",
        "    a=Sprice*0.95\n",
        "    return (a)\n",
        "  elif (Sprice <= 1000): \n",
        "    b=Sprice*0.90\n",
        "    return (b)\n"
      ],
      "execution_count": null,
      "outputs": []
    },
    {
      "cell_type": "code",
      "metadata": {
        "colab": {
          "base_uri": "https://localhost:8080/"
        },
        "id": "RshyfQQ8njdm",
        "outputId": "55f3722a-0697-48c4-ad1d-40aef6c8066b"
      },
      "source": [
        "F (400)"
      ],
      "execution_count": null,
      "outputs": [
        {
          "output_type": "execute_result",
          "data": {
            "text/plain": [
              "380.0"
            ]
          },
          "metadata": {
            "tags": []
          },
          "execution_count": 29
        }
      ]
    },
    {
      "cell_type": "code",
      "metadata": {
        "colab": {
          "base_uri": "https://localhost:8080/"
        },
        "id": "MkZvEgFrooEj",
        "outputId": "021e6290-083d-4bee-ffea-6096e563b7f4"
      },
      "source": [
        "F (580)"
      ],
      "execution_count": null,
      "outputs": [
        {
          "output_type": "execute_result",
          "data": {
            "text/plain": [
              "522.0"
            ]
          },
          "metadata": {
            "tags": []
          },
          "execution_count": 35
        }
      ]
    },
    {
      "cell_type": "code",
      "metadata": {
        "colab": {
          "base_uri": "https://localhost:8080/"
        },
        "id": "FuUtNgBqnq72",
        "outputId": "254da78a-30d6-41d7-abf2-7aae8da700a5"
      },
      "source": [
        "F (500)"
      ],
      "execution_count": null,
      "outputs": [
        {
          "output_type": "execute_result",
          "data": {
            "text/plain": [
              "475.0"
            ]
          },
          "metadata": {
            "tags": []
          },
          "execution_count": 36
        }
      ]
    },
    {
      "cell_type": "code",
      "metadata": {
        "id": "X_XVUMDjqHkU",
        "colab": {
          "base_uri": "https://localhost:8080/"
        },
        "outputId": "6c2c88a1-19c9-4660-e8d2-875b8db7babc"
      },
      "source": [
        "for i in range(100):\n",
        "  print(i)"
      ],
      "execution_count": 37,
      "outputs": [
        {
          "output_type": "stream",
          "text": [
            "0\n",
            "1\n",
            "2\n",
            "3\n",
            "4\n",
            "5\n",
            "6\n",
            "7\n",
            "8\n",
            "9\n",
            "10\n",
            "11\n",
            "12\n",
            "13\n",
            "14\n",
            "15\n",
            "16\n",
            "17\n",
            "18\n",
            "19\n",
            "20\n",
            "21\n",
            "22\n",
            "23\n",
            "24\n",
            "25\n",
            "26\n",
            "27\n",
            "28\n",
            "29\n",
            "30\n",
            "31\n",
            "32\n",
            "33\n",
            "34\n",
            "35\n",
            "36\n",
            "37\n",
            "38\n",
            "39\n",
            "40\n",
            "41\n",
            "42\n",
            "43\n",
            "44\n",
            "45\n",
            "46\n",
            "47\n",
            "48\n",
            "49\n",
            "50\n",
            "51\n",
            "52\n",
            "53\n",
            "54\n",
            "55\n",
            "56\n",
            "57\n",
            "58\n",
            "59\n",
            "60\n",
            "61\n",
            "62\n",
            "63\n",
            "64\n",
            "65\n",
            "66\n",
            "67\n",
            "68\n",
            "69\n",
            "70\n",
            "71\n",
            "72\n",
            "73\n",
            "74\n",
            "75\n",
            "76\n",
            "77\n",
            "78\n",
            "79\n",
            "80\n",
            "81\n",
            "82\n",
            "83\n",
            "84\n",
            "85\n",
            "86\n",
            "87\n",
            "88\n",
            "89\n",
            "90\n",
            "91\n",
            "92\n",
            "93\n",
            "94\n",
            "95\n",
            "96\n",
            "97\n",
            "98\n",
            "99\n"
          ],
          "name": "stdout"
        }
      ]
    },
    {
      "cell_type": "code",
      "metadata": {
        "id": "TuCEeF2fzHeT"
      },
      "source": [
        ""
      ],
      "execution_count": null,
      "outputs": []
    }
  ]
}